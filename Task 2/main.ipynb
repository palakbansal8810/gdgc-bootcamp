{
 "cells": [
  {
   "cell_type": "code",
   "execution_count": null,
   "metadata": {},
   "outputs": [],
   "source": [
    "# Matrix times Vector\n",
    "def matrix_dot_vector(a:list[list[int|float]],b:list[int|float])-> list[int|float]:\n",
    "\trows= len(a)\n",
    "\tcols=len(a[0])\n",
    "\tc=[]\n",
    "\t\n",
    "\tif cols==len(b):\n",
    "\t\tfor i in range(rows):\n",
    "\t\t\ts=0\n",
    "\t\t\tfor j in range(cols):\n",
    "\t\t\t\ts+=a[i][j]*b[j]\n",
    "\t\t\t\t\n",
    "\t\t\tc.append(s)\n",
    "\telse:\n",
    "\t\tc=-1\n",
    "\treturn c"
   ]
  },
  {
   "cell_type": "code",
   "execution_count": 2,
   "metadata": {},
   "outputs": [],
   "source": [
    "# Transpose of a Matrix\n",
    "\n",
    "def transpose_matrix(a: list[list[int|float]]) -> list[list[int|float]]:\n",
    "\trows=len(a)\n",
    "\tcols=len(a[0])\n",
    "\t\n",
    "\tb= [[a[j][i] for j in range(rows)] for i in range(cols)]\n",
    "\treturn b"
   ]
  },
  {
   "cell_type": "code",
   "execution_count": 3,
   "metadata": {},
   "outputs": [],
   "source": [
    "# Reshape Matrix\n",
    "\n",
    "import numpy as np\n",
    "\n",
    "def reshape_matrix(a: list[list[int|float]], new_shape: tuple[int, int]) -> list[list[int|float]]:\n",
    "\t#Write your code here and return a python list after reshaping by using numpy's tolist() method\n",
    "\tr, c = len(a), len(a[0])  \n",
    "\tnr, nc = new_shape \n",
    "\tif r * c != nr * nc: \n",
    "\t\treturn []\n",
    "\tflat_list = [num for row in a for num in row]  \n",
    "\treshaped_matrix = np.array(flat_list).reshape(nr, nc).tolist()  \n",
    "\treturn reshaped_matrix"
   ]
  },
  {
   "cell_type": "code",
   "execution_count": null,
   "metadata": {},
   "outputs": [],
   "source": [
    "#Calculate Mean by Row or Column\n",
    "\n",
    "def calculate_matrix_mean(matrix: list[list[float]], mode: str) -> list[float]:\n",
    "\tr=len(matrix)\n",
    "\tc=len(matrix[0])\n",
    "\tmeans=[]\n",
    "\tif mode=='column':\n",
    "\t\tfor i in range(r):\n",
    "\t\t\tmean=0\n",
    "\t\t\tfor j in range(c):\n",
    "\t\t\t\t\tmean+=matrix[j][i]\n",
    "\t\t\tmeans.append(mean/r)\n",
    "\telse:\n",
    "\t\tfor i in range(r):\n",
    "\t\t\tmean=0\n",
    "\t\t\tfor j in range(c):\n",
    "\t\t\t\t\tmean+=matrix[i][j]\n",
    "\t\t\tmeans.append(mean/c)\n",
    "\treturn means"
   ]
  },
  {
   "cell_type": "code",
   "execution_count": null,
   "metadata": {},
   "outputs": [],
   "source": [
    "#Scalar Multiplication of a Matrix\n",
    "\n",
    "def scalar_multiply(matrix: list[list[int|float]], scalar: int|float) -> list[list[int|float]]:\n",
    "\tr=len(matrix)\n",
    "\tc=len(matrix[0])\n",
    "\tresult= [[matrix[i][j]*scalar for j in range(c)]for i in range(r)]\n",
    "\treturn result"
   ]
  }
 ],
 "metadata": {
  "kernelspec": {
   "display_name": "base",
   "language": "python",
   "name": "python3"
  },
  "language_info": {
   "codemirror_mode": {
    "name": "ipython",
    "version": 3
   },
   "file_extension": ".py",
   "mimetype": "text/x-python",
   "name": "python",
   "nbconvert_exporter": "python",
   "pygments_lexer": "ipython3",
   "version": "3.12.4"
  }
 },
 "nbformat": 4,
 "nbformat_minor": 2
}
